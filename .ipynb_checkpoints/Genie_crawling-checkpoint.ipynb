{
 "cells": [
  {
   "cell_type": "code",
   "execution_count": 2,
   "metadata": {},
   "outputs": [],
   "source": [
    "from bs4 import BeautifulSoup\n",
    "from selenium import webdriver\n",
    "\n",
    "import time as t"
   ]
  },
  {
   "cell_type": "markdown",
   "metadata": {},
   "source": [
    "# - 지니 웹 사이트에서 top 200 데이터를 뽑아보자\n",
    "\n",
    "이번년 초에 강의를 진행하였을 때 (제가 뷰티풀수프밖에 몰랐던 시절에)<br>\n",
    "어떤 학생이 지니 웹 사이트를 크롤링 해보고 싶다고 말했었는데\n",
    "\n",
    "지니도 멜론과 마찬가지로 뜬금없이 사이트 URL로 가서 (전의 추적정보나 방문 페이지 정보 없이)<br>\n",
    "HTML 데이터를 달라고 하면 바로 거절해버립니다\n",
    "\n",
    "뭐 행여나 추적 정보를 입력해서 접근한다고 한들, 아예 HTML 자체가 나오지 않을 가능성도 높습니다<br>\n",
    "따라서 이번 시간에도 편리하게 셀레니움을 이용해서 접근해보겠습니다\n",
    "\n",
    "***\n",
    "\n",
    "필요 라이브러리는 다음 3가지입니다 (앞으로도 계속 비슷할거에요)\n",
    " - 뷰티풀수프\n",
    " - 셀레니움\n",
    " - 타임 모듈 (셀레니움에서 로드를 기다리기 위함)"
   ]
  },
  {
   "cell_type": "code",
   "execution_count": 3,
   "metadata": {},
   "outputs": [],
   "source": [
    "base_url = \"https://www.genie.co.kr/chart/top200\""
   ]
  },
  {
   "cell_type": "markdown",
   "metadata": {},
   "source": [
    "전에 어떤 유튜브 강의에서 제일 처음부터 url 주소를 따로 객체로 저장하는 방식이<br>\n",
    "매우 인상적이고 편리해보였습니다 (실제로 해봐도 짱 편함)\n",
    "\n",
    "따라서 base_url로 일단 주소를 저장하고 시작하겠습니다"
   ]
  },
  {
   "cell_type": "code",
   "execution_count": null,
   "metadata": {},
   "outputs": [],
   "source": [
    "driver = webdriver.Chrome(\n",
    "    executable_path=\"webdriver/chromedriver.exe\"\n",
    ")\n",
    "driver.get(base_url)"
   ]
  },
  {
   "cell_type": "markdown",
   "metadata": {},
   "source": [
    "셀레니움은 많은 유튜브 동영상을 보시면 아시겠지만, 가상으로 웹 페이지를 생성해서 접근하는 패키지입니다<br>\n",
    "뭐 애초에 웹 페이지를 가상으로 테스트하기 위한 패키지이니까요 허허\n",
    "\n",
    "그럼 여기서 가상으로 웹 페이지를 생성하는 방법은?<br>\n",
    "크롬을 사용하고 가상으로 크롬 페이지를 생성하기 위해서 크롬 드라이버가 필요합니다\n",
    "\n",
    "***\n",
    "\n",
    "크롬 드라이버 다운로드 경로는 다음과 같습니다<br>\n",
    "https://chromedriver.chromium.org/downloads\n",
    "\n",
    "덤으로 크롬 설치도 권유드립니다<br>\n",
    "https://www.google.com/intl/ko/chrome/\n",
    "\n",
    "***\n",
    "\n",
    "크롬 설치도 끝났고 크롬 드라이버도 무사히 받으셨다면<br>\n",
    "현재 여러분께서 작업하고 계신 소스 파일이 있는 폴더에<br>\n",
    "새로 webdriver라는 폴더를 생성해주세요\n",
    "\n",
    "그리고 그 webdriver 폴더 안에 webdriver.exe 파일을 넣어준다음<br>\n",
    "get 함수를 이용해서 우선 웹 페이지를 가상으로 실행해봅시다\n",
    "\n",
    "***\n",
    "\n",
    "예시) 나는 현재 아나콘다 네비게이터를 이용해서 쥬피터 노트북으로 소스 코드를 작성하고 있다<br>\n",
    "\n",
    "1. C:\\Users로 이동해서 여러분의 사용자 계정 폴더로 이동\n",
    "2. 그 폴더 내에 소스 코드 파일이 있는지 확인 (보통 아나콘다 네비게이터 내 쥬피터 노트북은 여기에 주로 소스 코드를 저장합니다)\n",
    "3. 만약 존재한다면 webdriver 폴더 생성 후 webdriver 안에 webdriver.exe 파일을 넣기\n",
    "\n",
    "***\n",
    "\n",
    "# 오류가 뜨면서 실행이 안되요!\n",
    "가끔 크롬 드라이버를 잘 넣고 하는데 오류 메세지가 나오시는 분들이 계실 겁니다\n",
    "\n",
    "그 중에서 가장 오류가 많이 발생하는 부분은 바로 현재 여러분께서 사용하고 계신 크롬 버전과 크롬 드라이버의 호환 문제인데요<br>\n",
    "우선은 현재 깔려있는 크롬의 버전이 84 / 85 / 86인지 확인해봅시다\n",
    "\n",
    "저는 현재 2020년 9월 10일에 설치하였는데 85버전이라고 뜨네요<br>\n",
    "확인 방법은 오른쪽 상단 설정 - Chrome 정보에 들어가시면 됩니다\n",
    "\n",
    "그 후에 크롬 드라이버 다운로드 홈페이지(https://chromedriver.chromium.org/downloads)에서 현재 크롬에 맞는 버전을 다운받아서 다시 넣으시면 됩니다\n",
    "\n",
    "***\n",
    "\n",
    "# webdriver 파일을 찾을 수 없다고 떠요!\n",
    "webdriver.exe 파일을 경로에 맞게 잘 넣었는지 혹은 이름을 틀리진 않았는지 다시 한번 확인 부탁드립니다\n",
    "\n",
    "***\n",
    "\n",
    "# 엥 선생님! 갑자기 여기서 켜졌다가 바로 꺼지는데 오류 아닌가요?\n",
    "\n",
    "자세한 건 바로 설명드리겠습니다<br>\n",
    "우선 크롬의 웹 페이지가 잠깐이나마 띄워진다면 성공입니다!"
   ]
  },
  {
   "cell_type": "code",
   "execution_count": 7,
   "metadata": {},
   "outputs": [],
   "source": [
    "t.sleep(3)"
   ]
  },
  {
   "cell_type": "markdown",
   "metadata": {},
   "source": [
    "자 아까 웹 페이지가 갑자기 켜졌다가 왜 꺼졌는가?<br>\n",
    "간단하게 이야기하자면, 대기하라고 하지 않았기 때문입니다\n",
    "\n",
    "현재 우리는 셀레니움 패키지를 이용해서 웹 페이지를 가상으로 생성하고 호출하는 데까지 성공하였습니다<br>\n",
    "다만 거기뿐이죠 호출이 성공적으로 끝났으니 크롬 드라이버 입장에서는 종료하는 일만 남은거죠\n",
    "\n",
    "***\n",
    "\n",
    "이걸 해결하기 위해서 굉장히 간단한 방법을 사용하는데요<br>\n",
    "바로 파이썬의 시간 모듈인 time 모듈을 사용해서 대기 명령을 내려주면 되는거죠\n",
    "\n",
    "개인적으로 이 부분에 대해서는 처음에 이걸 어떻게 해결하지 싶었는데<br>\n",
    "너무 간단해서 무릎을 탁 쳤던 경험이 있습니다 허허"
   ]
  },
  {
   "cell_type": "code",
   "execution_count": null,
   "metadata": {},
   "outputs": [],
   "source": []
  }
 ],
 "metadata": {
  "kernelspec": {
   "display_name": "Python 3",
   "language": "python",
   "name": "python3"
  },
  "language_info": {
   "codemirror_mode": {
    "name": "ipython",
    "version": 3
   },
   "file_extension": ".py",
   "mimetype": "text/x-python",
   "name": "python",
   "nbconvert_exporter": "python",
   "pygments_lexer": "ipython3",
   "version": "3.8.5"
  }
 },
 "nbformat": 4,
 "nbformat_minor": 4
}
