{
 "cells": [
  {
   "cell_type": "code",
   "execution_count": 2,
   "metadata": {},
   "outputs": [],
   "source": [
    "from bs4 import BeautifulSoup\n",
    "from selenium import webdriver\n",
    "\n",
    "import time as t"
   ]
  },
  {
   "cell_type": "markdown",
   "metadata": {},
   "source": [
    "이번 시간에는 지니 웹 사이트에 대해 크롤링을 진행하겠습니다.\n",
    "\n",
    "이번년 초에 강의를 진행하였을 때 (제가 뷰티풀수프밖에 몰랐던 시절에)\n",
    "어떤 학생이 지니 웹 사이트를 크롤링 해보고 싶다고 말했었는데\n",
    "\n",
    "지니도 멜론과 마찬가지로 뜬금없이 사이트 URL로 가서 (전의 추적정보나 방문 페이지 정보 없이)\n",
    "HTML 데이터를 달라고 하면 바로 거절해버립니다\n",
    "\n",
    "뭐 행여나 추적 정보를 입력해서 접근한다고 한들, 아예 HTML 자체가 나오지 않을 가능성도 높습니다\n",
    "따라서 이번 시간에도 편리하게 셀레니움을 이용해서 접근해보겠습니다\n",
    "\n",
    "필요 라이브러리는 다음 3가지입니다\n",
    " - 뷰티풀수프\n",
    " - 셀레니움\n",
    " - 타임 모듈 (셀레니움에서 로드를 기다리기 위함)"
   ]
  },
  {
   "cell_type": "code",
   "execution_count": 3,
   "metadata": {},
   "outputs": [],
   "source": [
    "base_url = \"https://www.genie.co.kr/chart/top200\""
   ]
  },
  {
   "cell_type": "markdown",
   "metadata": {},
   "source": [
    "전에 어떤 유튜브 강의에서 제일 처음부터 url 주소를 따로 객체로 저장하는 방식이\n",
    "매우 인상적이고 편리해보였습니다 (실제로 해봐도 짱 편함)\n",
    "\n",
    "따라서 base_url로 일단 주소를 저장하고 시작하겠습니다"
   ]
  },
  {
   "cell_type": "code",
   "execution_count": null,
   "metadata": {},
   "outputs": [],
   "source": [
    "driver = webdriver.Chrome(\n",
    "    executable_path=\"webdriver/chromedriver.exe\"\n",
    ")\n",
    "driver.get(base_url)"
   ]
  },
  {
   "cell_type": "markdown",
   "metadata": {},
   "source": [
    "셀레니움은 많은 유튜브 동영상을 보시면 아시겠지만, 가상으로 웹 페이지를 생성해서 접근하는 패키지입니다\n",
    "뭐 애초에 웹 페이지를 가상으로 테스트하기 위한 패키지이니까요 하하\n",
    "\n"
   ]
  }
 ],
 "metadata": {
  "kernelspec": {
   "display_name": "Python 3",
   "language": "python",
   "name": "python3"
  },
  "language_info": {
   "codemirror_mode": {
    "name": "ipython",
    "version": 3
   },
   "file_extension": ".py",
   "mimetype": "text/x-python",
   "name": "python",
   "nbconvert_exporter": "python",
   "pygments_lexer": "ipython3",
   "version": "3.8.5"
  }
 },
 "nbformat": 4,
 "nbformat_minor": 4
}
