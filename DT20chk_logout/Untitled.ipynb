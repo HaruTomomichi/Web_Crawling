{
 "cells": [
  {
   "cell_type": "code",
   "execution_count": 6,
   "metadata": {},
   "outputs": [],
   "source": [
    "from bs4 import BeautifulSoup\n",
    "from selenium import webdriver\n",
    "\n",
    "import time as t\n",
    "\n",
    "def login():\n",
    "    \n",
    "\n",
    "url = \"http://dt20chk.hyosungitx.com/main\"\n",
    "\n",
    "driver = webdriver.Chrome(\n",
    "    executable_path=\"webdriver/chromedriver.exe\"\n",
    ")\n",
    "driver.get(url)\n",
    "\n",
    "try:\n",
    "    pass\n",
    "except:\n",
    "    driver.\n",
    "\n",
    "\n",
    "\n",
    "\n",
    "\n",
    "driver.close()"
   ]
  }
 ],
 "metadata": {
  "kernelspec": {
   "display_name": "Python 3",
   "language": "python",
   "name": "python3"
  },
  "language_info": {
   "codemirror_mode": {
    "name": "ipython",
    "version": 3
   },
   "file_extension": ".py",
   "mimetype": "text/x-python",
   "name": "python",
   "nbconvert_exporter": "python",
   "pygments_lexer": "ipython3",
   "version": "3.8.5"
  }
 },
 "nbformat": 4,
 "nbformat_minor": 4
}
